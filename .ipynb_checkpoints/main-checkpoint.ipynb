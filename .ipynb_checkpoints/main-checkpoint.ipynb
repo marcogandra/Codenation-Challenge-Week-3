{
 "cells": [
  {
   "cell_type": "markdown",
   "metadata": {},
   "source": [
    "# Codenation Challenge - Week 3\n",
    "\n",
    "In this challenge, we will practice our knowledge of probability distributions. For this,\n",
    "we will divide this challenge into two parts:\n",
    "    \n",
    "1. The first part will have 3 questions about an artificial * data set * with data from a normal sample and\n",
    "    a binomial.\n",
    "2. The second part will be about the analysis of the distribution of a variable of the _data set_ [Pulsar Star](https://archive.ics.uci.edu/ml/datasets/HTRU2), containing 2 questions."
   ]
  },
  {
   "cell_type": "markdown",
   "metadata": {},
   "source": [
    "## General _setup_ "
   ]
  },
  {
   "cell_type": "code",
   "execution_count": 183,
   "metadata": {},
   "outputs": [],
   "source": [
    "import pandas as pd\n",
    "import matplotlib.pyplot as plt\n",
    "import numpy as np\n",
    "import scipy.stats as sct\n",
    "import seaborn as sns\n",
    "from statsmodels.distributions.empirical_distribution import ECDF"
   ]
  },
  {
   "cell_type": "markdown",
   "metadata": {},
   "source": [
    "## Part 1\n",
    "<p><p>\n",
    "    \n",
    "### _Setup_"
   ]
  },
  {
   "cell_type": "code",
   "execution_count": 185,
   "metadata": {},
   "outputs": [],
   "source": [
    "np.random.seed(42)\n",
    "    \n",
    "dataframe = pd.DataFrame({\"normal\": sct.norm.rvs(20, 4, size=10000),\n",
    "                     \"binomial\": sct.binom.rvs(100, 0.2, size=10000)})"
   ]
  },
  {
   "cell_type": "markdown",
   "metadata": {},
   "source": [
    "# Defining DataStatAnalysis\n",
    "\n",
    "This class will be used to abstract some methods, based on pandas and ECDF libraries to support all calculus needed to solve part 1 and part 2 questions."
   ]
  },
  {
   "cell_type": "code",
   "execution_count": 186,
   "metadata": {},
   "outputs": [],
   "source": [
    "class DataStatAnalysis(object):\n",
    "    \n",
    "    def __init__(self, df):\n",
    "        \"\"\"\n",
    "        Class created to abstract some pandas commands and statistics/propabilities functions.\n",
    "        \"\"\"\n",
    "        self.df = df\n",
    "        self.columns = df.columns\n",
    "        self.n_index = df.shape[0]\n",
    "        self.n_columns = df.shape[1]\n",
    "        self.ecdf = None\n",
    "        self.actual_ecdf_calibration = None\n",
    "        self.mean = None\n",
    "        self.variance = None\n",
    "        \n",
    "    def quantile_calc(self, column):\n",
    "        \"\"\"\n",
    "        This function receives a specific column name and return a list with quantiles where:\n",
    "        index 0 - 25%\n",
    "        index 1 - 50%\n",
    "        index 2 - 75%\n",
    "        \"\"\"\n",
    "        quantiles = []\n",
    "        \n",
    "        quantiles.append(self.df[column].quantile(0.25))\n",
    "        quantiles.append(self.df[column].quantile(0.50))\n",
    "        quantiles.append(self.df[column].quantile(0.75))\n",
    "        \n",
    "        return quantiles\n",
    "    \n",
    "    def ecdf_calibrate(self, column):\n",
    "        \"\"\"\n",
    "        This function calibrates the ECDF function using a dataframe column.\n",
    "        \"\"\"\n",
    "        self.ecdf = ECDF(self.df[column])\n",
    "        self.actual_ecdf_calibration = 'ECDF calibrated with {} column'.format(column)\n",
    "        \n",
    "    def ecdf_calc(self,interval):\n",
    "        \"\"\"\n",
    "        This function calculates probabilies using ecdf.\n",
    "        If a value is passed the function returns a single value.\n",
    "        If a list or array or dataframe column is passed the function return a numpy array.\n",
    "        \"\"\"\n",
    "        if self.ecdf is not None:\n",
    "            print(self.actual_ecdf_calibration)\n",
    "            return self.ecdf(interval)\n",
    "        else:\n",
    "            print('Calibrate ECDF function using ecdf_calibrate method')\n",
    "            \n",
    "    def mean_calc(self, column):\n",
    "        \"\"\"\n",
    "        This function calculate the mean of a dataframe column just to abstract pandas methods.\n",
    "        \"\"\"\n",
    "        return self.df[column].mean()\n",
    "    \n",
    "    def variance_calc(self, column):\n",
    "        \"\"\"\n",
    "        This function calculate the variance of a dataframe column just to abstract pandas methods.\n",
    "        \"\"\"\n",
    "        return self.df[column].var()\n",
    "    \n",
    "    def std_calc(self, column):\n",
    "        \"\"\"\n",
    "        This function calculate the standard deviation of a dataframe column just to abstract pandas methods.\n",
    "        \"\"\"\n",
    "        return self.df[column].std()"
   ]
  },
  {
   "cell_type": "code",
   "execution_count": 187,
   "metadata": {},
   "outputs": [
    {
     "name": "stdout",
     "output_type": "stream",
     "text": [
      "ECDF calibrated with normal column\n"
     ]
    }
   ],
   "source": [
    "# Create a instance of DataStatAnalysis class to solve problems on part 1.\n",
    "stat_analysis_part1 = DataStatAnalysis(dataframe)\n",
    "\n",
    "# Use quntile_calc method to obtain 25% 50% and 75% quntiles for normal and binomial distributions\n",
    "q_norm =  stat_analysis_part1.quantile_calc('normal')\n",
    "q_binom = stat_analysis_part1.quantile_calc('binomial')\n",
    "\n",
    "\"\"\"\n",
    "==============\n",
    "Question - 1\n",
    "==============\n",
    "\"\"\"\n",
    "# q_diff is a list with the difference between norm and binomial\n",
    "q_diff = [q_norm[x] - q_binom[x] for x in range(len(q_norm))]\n",
    "\n",
    "\"\"\"\n",
    "==============\n",
    "Question - 2\n",
    "==============\n",
    "\"\"\"\n",
    "# Calculate the probability of interval (mean - standard deviation), (mean + standard deviation) of normal distribution\n",
    "\n",
    "# Firt step: calibrate ECDF model with normal distribution\n",
    "stat_analysis_part1.ecdf_calibrate('normal')\n",
    "mean_normal = stat_analysis_part1.mean_calc('normal')\n",
    "std_normal = stat_analysis_part1.std_calc('normal')\n",
    "\n",
    "# ecdf_calc calculates the probability of a single value or each element into a list.\n",
    "probabilities = stat_analysis_part1.ecdf_calc([mean_normal - std_normal, mean_normal + std_normal])\n",
    "\n",
    "# In this case to know the probability of interval we just have to calculate (mean + std) - (mean - std)\n",
    "interval_probability = probabilities[1] - probabilities[0]\n",
    "\n",
    "\"\"\"\n",
    "==============\n",
    "Question - 3\n",
    "==============\n",
    "\"\"\"\n",
    "# Calculate the difference between means and variances, comparing binomial and normal distribution\n",
    "normal_mean = stat_analysis_part1.mean_calc('normal')\n",
    "normal_var = stat_analysis_part1.variance_calc('normal')\n",
    "binomial_mean = stat_analysis_part1.mean_calc('binomial')\n",
    "binomial_var = stat_analysis_part1.variance_calc('binomial')"
   ]
  },
  {
   "cell_type": "markdown",
   "metadata": {},
   "source": [
    "## Question 1\n",
    "\n",
    "What is the difference between the quartiles (Q1, Q2 and Q3) of the `normal` and` binomial` variables of `dataframe`? Respond as a tuple of three elements rounded to three decimal places.\n",
    "\n",
    "In other words, let `q1_norm`,` q2_norm` and `q3_norm` be the quantiles of the variable` normal` and `q1_binom`,` q2_binom` and `q3_binom` the quantiles of the variable` binom`, what is the difference `(q1_norm - q1 binom, q2_norm - q2_binom, q3_norm - q3_binom) `?"
   ]
  },
  {
   "cell_type": "code",
   "execution_count": 188,
   "metadata": {},
   "outputs": [],
   "source": [
    "def q1():\n",
    "    # Retorne aqui o resultado da questão 1.\n",
    "    return round(q_diff[0], 3), round(q_diff[1], 3), round(q_diff[2], 3)\n",
    "    pass"
   ]
  },
  {
   "cell_type": "markdown",
   "metadata": {},
   "source": [
    "## Question 2\n",
    "\n",
    "Consider the interval $ [\\bar{x} - s, \\bar{x} + s] $, where $ \\bar{x} $ is the sample mean and $ s $ is the standard deviation. What is the probability in this interval, calculated by the empirical cumulative distribution function (empirical CDF) of the `normal` variable? Respond as a single scalar rounded to three decimal places."
   ]
  },
  {
   "cell_type": "code",
   "execution_count": 189,
   "metadata": {},
   "outputs": [],
   "source": [
    "def q2():\n",
    "    return round(float(interval_probability), 3)\n",
    "    pass"
   ]
  },
  {
   "cell_type": "markdown",
   "metadata": {},
   "source": [
    "## Question 3\n",
    "\n",
    "What is the difference between the means and variances of the binomial and normal variables? Respond as a tuple of two elements rounded to three decimal places.\n",
    "\n",
    "In other words, let m_binom and v_binom be the mean and variance of the binomial variable, and m_norm and v_norm the mean and variance of the normal variable. What are the differences (m_binom - m_norm, v_binom - v_norm)?"
   ]
  },
  {
   "cell_type": "code",
   "execution_count": 190,
   "metadata": {},
   "outputs": [],
   "source": [
    "def q3():\n",
    "    return round(binomial_mean - normal_mean, 3), round(binomial_var - normal_var, 3)\n",
    "    pass"
   ]
  },
  {
   "cell_type": "markdown",
   "metadata": {},
   "source": [
    "## Part - 2\n",
    "<p><p>\n",
    "    \n",
    "### _Setup_ "
   ]
  },
  {
   "cell_type": "code",
   "execution_count": 191,
   "metadata": {},
   "outputs": [],
   "source": [
    "stars = pd.read_csv(\"pulsar_stars.csv\")\n",
    "\n",
    "stars.rename({old_name: new_name\n",
    "              for (old_name, new_name)\n",
    "              in zip(stars.columns,\n",
    "                     [\"mean_profile\", \"sd_profile\", \"kurt_profile\", \"skew_profile\", \"mean_curve\", \"sd_curve\", \"kurt_curve\", \"skew_curve\", \"target\"])\n",
    "             },\n",
    "             axis=1, inplace=True)\n",
    "\n",
    "stars.loc[:, \"target\"] = stars.target.astype(bool)"
   ]
  },
  {
   "cell_type": "code",
   "execution_count": 209,
   "metadata": {},
   "outputs": [
    {
     "name": "stdout",
     "output_type": "stream",
     "text": [
      "ECDF calibrated with mean_profile column\n"
     ]
    }
   ],
   "source": [
    "# Creating a variable to store mean_profile when target is false (0)\n",
    "mean_profile = stars[stars['target'] == 0][['mean_profile']]\n",
    "\n",
    "# standardized variable:\n",
    "false_pulsar_mean_profile_standardized = mean_profile['mean_profile'].apply(lambda x: (x-mean_profile.mean())/mean_profile.std())\n",
    "\n",
    "\n",
    "\"\"\"\n",
    "==============\n",
    "Question - 4\n",
    "==============\n",
    "\"\"\"\n",
    "# These cumulative probabilities will be used into ppf function to obtain the values correlated with the \n",
    "probabilities_part2 = [0.8, 0.9, 0.95]\n",
    "\n",
    "# values that result into given propabilities\n",
    "values = sct.norm.ppf(probabilities_part2, loc=0, scale=1)\n",
    "\n",
    "# Create an instance of DataStatAnalysis to analyse use ecdf function.\n",
    "stat_analysis_par2 = DataStatAnalysis(false_pulsar_mean_profile_standardized)\n",
    "\n",
    "# Calibrate ecdf model with mean_profile column\n",
    "stat_analysis_par2.ecdf_calibrate('mean_profile')\n",
    "\n",
    "# Calculate probabilities using ecdf and theotical values.\n",
    "probabilities_ecdf = stat_analysis_par2.ecdf_calc(values)\n",
    "\n",
    "\"\"\"\n",
    "==============\n",
    "Question - 5\n",
    "==============\n",
    "\"\"\"\n",
    "# Calcule quartile (25%, 50% and 75%) from data (mean_profile column)\n",
    "quartiles_from_data = stat_analysis_par2.quantile_calc('mean_profile')\n",
    "\n",
    "# Calculate quartile (25%, 50% and 75%) of a normal distribution of mean 0 and variance 1\n",
    "quartiles_theorical = sct.norm.ppf([0.25, 0.5, 0.75], loc=0, scale=1)\n",
    "\n",
    "# Calculate the difference between data values and theorical values\n",
    "q_diff_part2 = [round(quartiles_from_data[x] - quartiles_theorical[x], 3) for x in range(len(quartiles_theorical))]"
   ]
  },
  {
   "cell_type": "markdown",
   "metadata": {},
   "source": [
    "## Question 4\n",
    "\n",
    "Considering the `mean_profile` variable of` stars`:\n",
    "\n",
    "1. Filter only the values ​​of `mean_profile` where` target == 0` (ie, where the star is not a pulsar).\n",
    "2. Standardize the `mean_profile` variable previously filtered to have mean 0 and variance 1.\n",
    "\n",
    "We will call the resulting variable `false_pulsar_mean_profile_standardized`.\n",
    "\n",
    "Find the theoretical quantiles for a normal distribution of mean 0 and variance 1 for 0.80, 0.90 and 0.95 using the `norm.ppf ()` function available in `scipy.stats`.\n",
    "\n",
    "What are the probabilities associated with these quantiles using the empirical CDF of the variable `false_pulsar_mean_profile_standardized`? Respond as a tuple of three elements rounded to three decimal places.\n",
    "In other words, let m_binom and v_binom be the mean and variance of the binomial variable, and m_norm and v_norm the mean and variance of the normal variable. What are the differences (m_binom - m_norm, v_binom - v_norm)?"
   ]
  },
  {
   "cell_type": "code",
   "execution_count": 210,
   "metadata": {},
   "outputs": [],
   "source": [
    "def q4():\n",
    "    # Retorne aqui o resultado da questão 4.\n",
    "    return round(probabilities_ecdf[0], 3), round(probabilities_ecdf[1], 3), round(probabilities_ecdf[2], 3)\n",
    "    pass"
   ]
  },
  {
   "cell_type": "markdown",
   "metadata": {},
   "source": [
    "## Question 5\n",
    "\n",
    "What is the difference between the Q1, Q2 and Q3 quantiles of `false_pulsar_mean_profile_standardized` and the same theoretical quantiles of a normal distribution of mean 0 and variance 1? Respond as a tuple of three elements rounded to three decimal places."
   ]
  },
  {
   "cell_type": "code",
   "execution_count": 211,
   "metadata": {},
   "outputs": [],
   "source": [
    "def q5():\n",
    "    # Retorne aqui o resultado da questão 5.\n",
    "    return round(q_diff_part2[0], 3), round(q_diff_part2[1], 3), round(q_diff_part2[2], 3)\n",
    "    pass"
   ]
  }
 ],
 "metadata": {
  "kernelspec": {
   "display_name": "Python 3",
   "language": "python",
   "name": "python3"
  },
  "language_info": {
   "codemirror_mode": {
    "name": "ipython",
    "version": 3
   },
   "file_extension": ".py",
   "mimetype": "text/x-python",
   "name": "python",
   "nbconvert_exporter": "python",
   "pygments_lexer": "ipython3",
   "version": "3.7.4"
  }
 },
 "nbformat": 4,
 "nbformat_minor": 2
}
